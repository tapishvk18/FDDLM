{
 "cells": [
  {
   "cell_type": "code",
   "execution_count": 1,
   "id": "56a5e379",
   "metadata": {},
   "outputs": [],
   "source": [
    "import numpy as np"
   ]
  },
  {
   "cell_type": "code",
   "execution_count": 7,
   "id": "2bda4a4e",
   "metadata": {},
   "outputs": [],
   "source": [
    "fddlm_cfs = []\n",
    "fddlm_cfs.append( np.array([[122,0,0,0,0],[0,126,4,0,0], [0,0,271,0,0],[1,17,68,203,1],[0,0,1,0,73]]))"
   ]
  },
  {
   "cell_type": "code",
   "execution_count": 9,
   "id": "f5c94f19",
   "metadata": {},
   "outputs": [],
   "source": [
    "fddlm_cfs.append( np.array([[103,0,0,0,0], [5,123,5,0,2],[7,2,355, 0 ,2], [19,0,0,205,8],[0,0,0,0,51]]))"
   ]
  },
  {
   "cell_type": "code",
   "execution_count": 12,
   "id": "f3407832",
   "metadata": {},
   "outputs": [],
   "source": [
    "fddlm_cfs.append( np.array([[131,0,1,6,1],[0,113,0,10,0],[4,12,366,98,3],[0,0,0,82,0],[0,0,0,1,58]]))"
   ]
  },
  {
   "cell_type": "code",
   "execution_count": 13,
   "id": "332d4acd",
   "metadata": {},
   "outputs": [],
   "source": [
    "fddlm_cfs.append(np.array([[131,0,0,0,0],[0,139,0,1,0],[0,1,344,0,1],[0,0,2,200,0],[0,0,1,0,66]]))"
   ]
  },
  {
   "cell_type": "code",
   "execution_count": 15,
   "id": "71a66fc2",
   "metadata": {},
   "outputs": [],
   "source": [
    "fddlm_cfs.append(np.array([[127,0,0,1,4],[0,130,0,1,0],[0,7,351,5,3],[0,0,0,190,1],[0,0,0,0,66]]))"
   ]
  },
  {
   "cell_type": "code",
   "execution_count": 16,
   "id": "f25598fb",
   "metadata": {},
   "outputs": [
    {
     "data": {
      "text/plain": [
       "[array([[122,   0,   0,   0,   0],\n",
       "        [  0, 126,   4,   0,   0],\n",
       "        [  0,   0, 271,   0,   0],\n",
       "        [  1,  17,  68, 203,   1],\n",
       "        [  0,   0,   1,   0,  73]]),\n",
       " array([[103,   0,   0,   0,   0],\n",
       "        [  5, 123,   5,   0,   2],\n",
       "        [  7,   2, 355,   0,   2],\n",
       "        [ 19,   0,   0, 205,   8],\n",
       "        [  0,   0,   0,   0,  51]]),\n",
       " array([[131,   0,   1,   6,   1],\n",
       "        [  0, 113,   0,  10,   0],\n",
       "        [  4,  12, 366,  98,   3],\n",
       "        [  0,   0,   0,  82,   0],\n",
       "        [  0,   0,   0,   1,  58]]),\n",
       " array([[131,   0,   0,   0,   0],\n",
       "        [  0, 139,   0,   1,   0],\n",
       "        [  0,   1, 344,   0,   1],\n",
       "        [  0,   0,   2, 200,   0],\n",
       "        [  0,   0,   1,   0,  66]]),\n",
       " array([[127,   0,   0,   1,   4],\n",
       "        [  0, 130,   0,   1,   0],\n",
       "        [  0,   7, 351,   5,   3],\n",
       "        [  0,   0,   0, 190,   1],\n",
       "        [  0,   0,   0,   0,  66]])]"
      ]
     },
     "execution_count": 16,
     "metadata": {},
     "output_type": "execute_result"
    }
   ],
   "source": [
    "fddlm_cfs"
   ]
  },
  {
   "cell_type": "code",
   "execution_count": 17,
   "id": "6bfdd4fd",
   "metadata": {},
   "outputs": [],
   "source": [
    "np.save(\"./heatmaps/fddlm_cfs.npy\",fddlm_cfs)"
   ]
  },
  {
   "cell_type": "code",
   "execution_count": 19,
   "id": "14b7c9a2",
   "metadata": {},
   "outputs": [],
   "source": [
    "fddlm_500_cfs = []"
   ]
  },
  {
   "cell_type": "code",
   "execution_count": 20,
   "id": "0cb8c8b7",
   "metadata": {},
   "outputs": [],
   "source": [
    "fddlm_500_cfs.append(np.array([[123,1,0,0,0],[0,141,0,0,0],[0,1,344,0,1],[0,0,0,203,1],[0,0,0,0,72]]))"
   ]
  },
  {
   "cell_type": "code",
   "execution_count": 21,
   "id": "2243b5a9",
   "metadata": {},
   "outputs": [],
   "source": [
    "fddlm_500_cfs.append(np.array([[131,0,0,0,0],[0,122,2,0,0],[1,3,358,0,0],[2,0,0,204,0],[0,0,0,1,63]]))"
   ]
  },
  {
   "cell_type": "code",
   "execution_count": 22,
   "id": "6baceb66",
   "metadata": {},
   "outputs": [],
   "source": [
    "fddlm_500_cfs.append(np.array([[130,0,1,0,0],[0,122,1,0,0],[1,3,365,2,1],[4,0,0,195,1],[0,0,0,0,60]]))"
   ]
  },
  {
   "cell_type": "code",
   "execution_count": 23,
   "id": "7b884309",
   "metadata": {},
   "outputs": [],
   "source": [
    "fddlm_500_cfs.append(np.array([[130,0,0,0,0],[1,140,0,0,0],[0,0,346,0,1],[0,0,1,201,0],[0,0,0,0,66]]))"
   ]
  },
  {
   "cell_type": "code",
   "execution_count": 24,
   "id": "04126b76",
   "metadata": {},
   "outputs": [],
   "source": [
    "fddlm_500_cfs.append(np.array([[127,0,0,0,0],[0,137,0,0,0],[0,0,351,0,0],[0,0,0,197,0],[0,0,0,0,74]]))"
   ]
  },
  {
   "cell_type": "code",
   "execution_count": 25,
   "id": "facac695",
   "metadata": {},
   "outputs": [
    {
     "data": {
      "text/plain": [
       "[array([[123,   1,   0,   0,   0],\n",
       "        [  0, 141,   0,   0,   0],\n",
       "        [  0,   1, 344,   0,   1],\n",
       "        [  0,   0,   0, 203,   1],\n",
       "        [  0,   0,   0,   0,  72]]),\n",
       " array([[131,   0,   0,   0,   0],\n",
       "        [  0, 122,   2,   0,   0],\n",
       "        [  1,   3, 358,   0,   0],\n",
       "        [  2,   0,   0, 204,   0],\n",
       "        [  0,   0,   0,   1,  63]]),\n",
       " array([[130,   0,   1,   0,   0],\n",
       "        [  0, 122,   1,   0,   0],\n",
       "        [  1,   3, 365,   2,   1],\n",
       "        [  4,   0,   0, 195,   1],\n",
       "        [  0,   0,   0,   0,  60]]),\n",
       " array([[130,   0,   0,   0,   0],\n",
       "        [  1, 140,   0,   0,   0],\n",
       "        [  0,   0, 346,   0,   1],\n",
       "        [  0,   0,   1, 201,   0],\n",
       "        [  0,   0,   0,   0,  66]]),\n",
       " array([[127,   0,   0,   0,   0],\n",
       "        [  0, 137,   0,   0,   0],\n",
       "        [  0,   0, 351,   0,   0],\n",
       "        [  0,   0,   0, 197,   0],\n",
       "        [  0,   0,   0,   0,  74]])]"
      ]
     },
     "execution_count": 25,
     "metadata": {},
     "output_type": "execute_result"
    }
   ],
   "source": [
    "fddlm_500_cfs"
   ]
  },
  {
   "cell_type": "code",
   "execution_count": 26,
   "id": "95fa88e8",
   "metadata": {},
   "outputs": [],
   "source": [
    "np.save(\"./heatmaps/fddlm_500_cfs.npy\",fddlm_500_cfs)"
   ]
  },
  {
   "cell_type": "code",
   "execution_count": null,
   "id": "d2041c55",
   "metadata": {},
   "outputs": [],
   "source": []
  }
 ],
 "metadata": {
  "kernelspec": {
   "display_name": "Python 3 (ipykernel)",
   "language": "python",
   "name": "python3"
  },
  "language_info": {
   "codemirror_mode": {
    "name": "ipython",
    "version": 3
   },
   "file_extension": ".py",
   "mimetype": "text/x-python",
   "name": "python",
   "nbconvert_exporter": "python",
   "pygments_lexer": "ipython3",
   "version": "3.11.7"
  }
 },
 "nbformat": 4,
 "nbformat_minor": 5
}
