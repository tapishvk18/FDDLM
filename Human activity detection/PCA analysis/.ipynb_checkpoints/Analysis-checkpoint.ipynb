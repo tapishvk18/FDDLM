{
 "cells": [
  {
   "cell_type": "code",
   "execution_count": 1,
   "id": "3fb7a25b-940b-4264-be1a-235b3a1570ff",
   "metadata": {},
   "outputs": [],
   "source": [
    "import numpy as np\n",
    "import pandas as pd\n",
    "import matplotlib.pyplot as plt\n",
    "import seaborn as sns"
   ]
  },
  {
   "cell_type": "code",
   "execution_count": 2,
   "id": "9ff8178d-29b6-4b72-85f4-92ad6cdc6fd7",
   "metadata": {},
   "outputs": [],
   "source": [
    "def get_history_summary(history,title):\n",
    "    n = len(history)\n",
    "    average = {'accuracy': 0, 'loss':0,'val_accuracy':0, 'val_loss':0 }\n",
    "    best = {'accuracy': 0, 'loss':10000000,'val_accuracy':0, 'val_loss':100000000 }\n",
    "    for i in range(n):\n",
    "        last_epoch = len(history[i]['loss']) - 1\n",
    "        average['accuracy'] += history[i]['accuracy'][last_epoch]\n",
    "        average['loss'] += history[i]['loss'][last_epoch]\n",
    "        average['val_accuracy'] += history[i]['val_accuracy'][last_epoch]\n",
    "        average['val_loss'] += history[i]['val_loss'][last_epoch]\n",
    "    \n",
    "        best['accuracy'] = max(best['accuracy'],history[i]['accuracy'][last_epoch])\n",
    "        best['loss'] = min(best['loss'] , history[i]['loss'][last_epoch])\n",
    "        best['val_accuracy'] = max(best['val_accuracy'], history[i]['val_accuracy'][last_epoch])\n",
    "        best['val_loss'] = min(best['val_loss'], history[i]['val_loss'][last_epoch])\n",
    "        \n",
    "    average['accuracy'] = average['accuracy']/n\n",
    "    average['loss'] = average['loss']/n\n",
    "    average['val_accuracy'] = average['val_accuracy']/n\n",
    "    average['val_loss'] = average['val_loss']/n\n",
    "\n",
    "    # labels = list(average.keys())\n",
    "    # average_values = list(average.values())\n",
    "    # best_values = list(best.values())\n",
    "\n",
    "    # bar_width = 0.35\n",
    "    # index = np.arange(len(labels))\n",
    "    # bar1 = plt.bar(index,average_values, bar_width, color= '#ee8b0d', label= 'Average')\n",
    "    # bar2 = plt.bar(index + bar_width, best_values, bar_width, color= 'b', label= 'Best')\n",
    "    # for i, v in enumerate(average_values):\n",
    "    #     plt.text(i, v + 0.01, str(round(v, 4)), ha='center', va='bottom') \n",
    "    # for i, v in enumerate(best_values):\n",
    "    #     plt.text(i + bar_width, v + 0.01, str(round(v, 4)), ha='center', va='bottom') \n",
    "\n",
    "    # plt.xlabel('Metrics')\n",
    "    # plt.ylabel('Values')\n",
    "    # plt.title(f\"Comparison of Average and Best Metrics for {title}\")\n",
    "    # plt.xticks([i + bar_width / 2 for i in index])\n",
    "    # plt.xticks([i + bar_width / 2 for i in index], labels)\n",
    "    # plt.legend()\n",
    "    # plt.savefig(f\"{title} summary\")\n",
    "    # plt.show()\n",
    "    return average"
   ]
  },
  {
   "cell_type": "code",
   "execution_count": 5,
   "id": "bbea2cba-b7cc-4be5-b24a-50cd3370a33d",
   "metadata": {},
   "outputs": [
    {
     "data": {
      "text/plain": [
       "0.793297"
      ]
     },
     "execution_count": 5,
     "metadata": {},
     "output_type": "execute_result"
    }
   ],
   "source": [
    "cnn_history = np.load(\"./History/cnn_history.np.npy\",allow_pickle=True)\n",
    "cnn_metrics = get_history_summary(cnn_history, \"CNN summary 1\")\n",
    "round(cnn_metrics['val_accuracy'],6)"
   ]
  },
  {
   "cell_type": "code",
   "execution_count": 6,
   "id": "c2e531d1-9e68-4326-b028-38d93cf5791d",
   "metadata": {},
   "outputs": [
    {
     "data": {
      "text/plain": [
       "0.256814"
      ]
     },
     "execution_count": 6,
     "metadata": {},
     "output_type": "execute_result"
    }
   ],
   "source": [
    "cnn_lstm_history = np.load(\"./History/cnn_lstm_history.npy\",allow_pickle=True)\n",
    "cnn_lstm_metrics = get_history_summary(cnn_lstm_history, \"CNN summary 1\")\n",
    "round(cnn_lstm_metrics['val_accuracy'],6)"
   ]
  },
  {
   "cell_type": "code",
   "execution_count": null,
   "id": "fa5f2387-5069-41fe-a357-822da130dd6c",
   "metadata": {},
   "outputs": [],
   "source": []
  }
 ],
 "metadata": {
  "kernelspec": {
   "display_name": "Python 3 (ipykernel)",
   "language": "python",
   "name": "python3"
  },
  "language_info": {
   "codemirror_mode": {
    "name": "ipython",
    "version": 3
   },
   "file_extension": ".py",
   "mimetype": "text/x-python",
   "name": "python",
   "nbconvert_exporter": "python",
   "pygments_lexer": "ipython3",
   "version": "3.12.3"
  }
 },
 "nbformat": 4,
 "nbformat_minor": 5
}
